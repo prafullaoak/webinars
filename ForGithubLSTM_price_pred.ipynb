{
  "cells": [
    {
      "cell_type": "markdown",
      "metadata": {
        "id": "view-in-github",
        "colab_type": "text"
      },
      "source": [
        "<a href=\"https://colab.research.google.com/github/prafullaoak/webinars/blob/master/ForGithubLSTM_price_pred.ipynb\" target=\"_parent\"><img src=\"https://colab.research.google.com/assets/colab-badge.svg\" alt=\"Open In Colab\"/></a>"
      ]
    },
    {
      "cell_type": "code",
      "source": [
        "###################################################################################\n",
        "#IMPORTING TA-lib\n",
        "\n",
        "url = 'https://anaconda.org/conda-forge/libta-lib/0.4.0/download/linux-64/libta-lib-0.4.0-h166bdaf_1.tar.bz2'\n",
        "!curl -L $url | tar xj -C /usr/lib/x86_64-linux-gnu/ lib --strip-components=1\n",
        "url = 'https://anaconda.org/conda-forge/ta-lib/0.4.19/download/linux-64/ta-lib-0.4.19-py310hde88566_4.tar.bz2'\n",
        "!curl -L $url | tar xj -C /usr/local/lib/python3.10/dist-packages/ lib/python3.10/site-packages/talib --strip-components=3\n",
        "import talib"
      ],
      "metadata": {
        "colab": {
          "base_uri": "https://localhost:8080/"
        },
        "id": "6mO69gZ9e9UF",
        "outputId": "a0db40b6-220b-49d1-b35d-3934af0a7a73"
      },
      "execution_count": null,
      "outputs": [
        {
          "output_type": "stream",
          "name": "stdout",
          "text": [
            "  % Total    % Received % Xferd  Average Speed   Time    Time     Time  Current\n",
            "                                 Dload  Upload   Total   Spent    Left  Speed\n",
            "100  4401    0  4401    0     0   6752      0 --:--:-- --:--:-- --:--:--  6750\n",
            "100  517k  100  517k    0     0   330k      0  0:00:01  0:00:01 --:--:-- 1676k\n",
            "  % Total    % Received % Xferd  Average Speed   Time    Time     Time  Current\n",
            "                                 Dload  Upload   Total   Spent    Left  Speed\n",
            "100  4421    0  4421    0     0   9907      0 --:--:-- --:--:-- --:--:--  9912\n",
            "100  392k  100  392k    0     0   312k      0  0:00:01  0:00:01 --:--:--  616k\n"
          ]
        }
      ]
    },
    {
      "cell_type": "code",
      "source": [],
      "metadata": {
        "id": "t9GBndfy7I8C"
      },
      "execution_count": null,
      "outputs": []
    },
    {
      "cell_type": "code",
      "execution_count": null,
      "metadata": {
        "id": "rJi6PolX2oAg"
      },
      "outputs": [],
      "source": [
        "# For downloading data\n",
        "import yfinance as yf\n",
        "\n",
        "# For manipulating data\n",
        "import pandas as pd\n",
        "import numpy as np\n",
        "\n",
        "# For mathematical operations\n",
        "import math\n",
        "\n",
        "import talib\n",
        "\n",
        "# For visualization\n",
        "import matplotlib.pyplot as plt\n",
        "from matplotlib.pylab import rcParams\n",
        "\n",
        "# For data normalisation\n",
        "from sklearn.preprocessing import MinMaxScaler\n",
        "\n",
        "# For building the model\n",
        "from keras.layers import LSTM, Dropout, Dense\n",
        "from keras.models import Sequential"
      ]
    },
    {
      "cell_type": "code",
      "execution_count": null,
      "metadata": {
        "id": "4gtXbR3P1a61"
      },
      "outputs": [],
      "source": [
        "# # Settings the figsize parameter for the plots in this notebook to standardize the size of plots\n",
        "%matplotlib inline\n",
        "rcParams['figure.figsize'] = 20, 10"
      ]
    },
    {
      "cell_type": "markdown",
      "metadata": {
        "id": "SwFTHbKc3O_P"
      },
      "source": [
        "## Download the data and check it"
      ]
    },
    {
      "cell_type": "markdown",
      "metadata": {
        "id": "ypPIutMs1a61"
      },
      "source": [
        "Download the last 10-years' historical data for (`^NSEI`) using `yfinance`."
      ]
    },
    {
      "cell_type": "code",
      "execution_count": null,
      "metadata": {
        "colab": {
          "base_uri": "https://localhost:8080/"
        },
        "id": "DPyePPPz37b-",
        "outputId": "c34d72e0-e2e5-4b08-da33-8ed9e9e52939"
      },
      "outputs": [
        {
          "output_type": "stream",
          "name": "stdout",
          "text": [
            "\r[*********************100%%**********************]  1 of 1 completed\n"
          ]
        }
      ],
      "source": [
        "ticker = '^NSEI'\n",
        "df = yf.download(ticker, period='10y')"
      ]
    },
    {
      "cell_type": "code",
      "execution_count": null,
      "metadata": {
        "colab": {
          "base_uri": "https://localhost:8080/",
          "height": 237
        },
        "id": "R8TYTq6M4xot",
        "outputId": "5cd98b9f-5aa1-4d04-f0a4-1c0cc29bc24b"
      },
      "outputs": [
        {
          "output_type": "execute_result",
          "data": {
            "text/plain": [
              "                   Open         High          Low        Close    Adj Close  \\\n",
              "Date                                                                          \n",
              "2013-12-05  6262.450195  6300.549805  6232.000000  6241.100098  6241.100098   \n",
              "2013-12-06  6234.399902  6275.350098  6230.750000  6259.899902  6259.899902   \n",
              "2013-12-09  6415.000000  6415.250000  6345.000000  6363.899902  6363.899902   \n",
              "2013-12-10  6354.700195  6362.250000  6307.549805  6332.850098  6332.850098   \n",
              "2013-12-11  6307.200195  6326.600098  6280.250000  6307.899902  6307.899902   \n",
              "\n",
              "            Volume  \n",
              "Date                \n",
              "2013-12-05  186100  \n",
              "2013-12-06  158500  \n",
              "2013-12-09  198300  \n",
              "2013-12-10  242400  \n",
              "2013-12-11  148200  "
            ],
            "text/html": [
              "\n",
              "  <div id=\"df-882988a9-d2e7-4c7e-a463-61b3bf13947d\" class=\"colab-df-container\">\n",
              "    <div>\n",
              "<style scoped>\n",
              "    .dataframe tbody tr th:only-of-type {\n",
              "        vertical-align: middle;\n",
              "    }\n",
              "\n",
              "    .dataframe tbody tr th {\n",
              "        vertical-align: top;\n",
              "    }\n",
              "\n",
              "    .dataframe thead th {\n",
              "        text-align: right;\n",
              "    }\n",
              "</style>\n",
              "<table border=\"1\" class=\"dataframe\">\n",
              "  <thead>\n",
              "    <tr style=\"text-align: right;\">\n",
              "      <th></th>\n",
              "      <th>Open</th>\n",
              "      <th>High</th>\n",
              "      <th>Low</th>\n",
              "      <th>Close</th>\n",
              "      <th>Adj Close</th>\n",
              "      <th>Volume</th>\n",
              "    </tr>\n",
              "    <tr>\n",
              "      <th>Date</th>\n",
              "      <th></th>\n",
              "      <th></th>\n",
              "      <th></th>\n",
              "      <th></th>\n",
              "      <th></th>\n",
              "      <th></th>\n",
              "    </tr>\n",
              "  </thead>\n",
              "  <tbody>\n",
              "    <tr>\n",
              "      <th>2013-12-05</th>\n",
              "      <td>6262.450195</td>\n",
              "      <td>6300.549805</td>\n",
              "      <td>6232.000000</td>\n",
              "      <td>6241.100098</td>\n",
              "      <td>6241.100098</td>\n",
              "      <td>186100</td>\n",
              "    </tr>\n",
              "    <tr>\n",
              "      <th>2013-12-06</th>\n",
              "      <td>6234.399902</td>\n",
              "      <td>6275.350098</td>\n",
              "      <td>6230.750000</td>\n",
              "      <td>6259.899902</td>\n",
              "      <td>6259.899902</td>\n",
              "      <td>158500</td>\n",
              "    </tr>\n",
              "    <tr>\n",
              "      <th>2013-12-09</th>\n",
              "      <td>6415.000000</td>\n",
              "      <td>6415.250000</td>\n",
              "      <td>6345.000000</td>\n",
              "      <td>6363.899902</td>\n",
              "      <td>6363.899902</td>\n",
              "      <td>198300</td>\n",
              "    </tr>\n",
              "    <tr>\n",
              "      <th>2013-12-10</th>\n",
              "      <td>6354.700195</td>\n",
              "      <td>6362.250000</td>\n",
              "      <td>6307.549805</td>\n",
              "      <td>6332.850098</td>\n",
              "      <td>6332.850098</td>\n",
              "      <td>242400</td>\n",
              "    </tr>\n",
              "    <tr>\n",
              "      <th>2013-12-11</th>\n",
              "      <td>6307.200195</td>\n",
              "      <td>6326.600098</td>\n",
              "      <td>6280.250000</td>\n",
              "      <td>6307.899902</td>\n",
              "      <td>6307.899902</td>\n",
              "      <td>148200</td>\n",
              "    </tr>\n",
              "  </tbody>\n",
              "</table>\n",
              "</div>\n",
              "    <div class=\"colab-df-buttons\">\n",
              "\n",
              "  <div class=\"colab-df-container\">\n",
              "    <button class=\"colab-df-convert\" onclick=\"convertToInteractive('df-882988a9-d2e7-4c7e-a463-61b3bf13947d')\"\n",
              "            title=\"Convert this dataframe to an interactive table.\"\n",
              "            style=\"display:none;\">\n",
              "\n",
              "  <svg xmlns=\"http://www.w3.org/2000/svg\" height=\"24px\" viewBox=\"0 -960 960 960\">\n",
              "    <path d=\"M120-120v-720h720v720H120Zm60-500h600v-160H180v160Zm220 220h160v-160H400v160Zm0 220h160v-160H400v160ZM180-400h160v-160H180v160Zm440 0h160v-160H620v160ZM180-180h160v-160H180v160Zm440 0h160v-160H620v160Z\"/>\n",
              "  </svg>\n",
              "    </button>\n",
              "\n",
              "  <style>\n",
              "    .colab-df-container {\n",
              "      display:flex;\n",
              "      gap: 12px;\n",
              "    }\n",
              "\n",
              "    .colab-df-convert {\n",
              "      background-color: #E8F0FE;\n",
              "      border: none;\n",
              "      border-radius: 50%;\n",
              "      cursor: pointer;\n",
              "      display: none;\n",
              "      fill: #1967D2;\n",
              "      height: 32px;\n",
              "      padding: 0 0 0 0;\n",
              "      width: 32px;\n",
              "    }\n",
              "\n",
              "    .colab-df-convert:hover {\n",
              "      background-color: #E2EBFA;\n",
              "      box-shadow: 0px 1px 2px rgba(60, 64, 67, 0.3), 0px 1px 3px 1px rgba(60, 64, 67, 0.15);\n",
              "      fill: #174EA6;\n",
              "    }\n",
              "\n",
              "    .colab-df-buttons div {\n",
              "      margin-bottom: 4px;\n",
              "    }\n",
              "\n",
              "    [theme=dark] .colab-df-convert {\n",
              "      background-color: #3B4455;\n",
              "      fill: #D2E3FC;\n",
              "    }\n",
              "\n",
              "    [theme=dark] .colab-df-convert:hover {\n",
              "      background-color: #434B5C;\n",
              "      box-shadow: 0px 1px 3px 1px rgba(0, 0, 0, 0.15);\n",
              "      filter: drop-shadow(0px 1px 2px rgba(0, 0, 0, 0.3));\n",
              "      fill: #FFFFFF;\n",
              "    }\n",
              "  </style>\n",
              "\n",
              "    <script>\n",
              "      const buttonEl =\n",
              "        document.querySelector('#df-882988a9-d2e7-4c7e-a463-61b3bf13947d button.colab-df-convert');\n",
              "      buttonEl.style.display =\n",
              "        google.colab.kernel.accessAllowed ? 'block' : 'none';\n",
              "\n",
              "      async function convertToInteractive(key) {\n",
              "        const element = document.querySelector('#df-882988a9-d2e7-4c7e-a463-61b3bf13947d');\n",
              "        const dataTable =\n",
              "          await google.colab.kernel.invokeFunction('convertToInteractive',\n",
              "                                                    [key], {});\n",
              "        if (!dataTable) return;\n",
              "\n",
              "        const docLinkHtml = 'Like what you see? Visit the ' +\n",
              "          '<a target=\"_blank\" href=https://colab.research.google.com/notebooks/data_table.ipynb>data table notebook</a>'\n",
              "          + ' to learn more about interactive tables.';\n",
              "        element.innerHTML = '';\n",
              "        dataTable['output_type'] = 'display_data';\n",
              "        await google.colab.output.renderOutput(dataTable, element);\n",
              "        const docLink = document.createElement('div');\n",
              "        docLink.innerHTML = docLinkHtml;\n",
              "        element.appendChild(docLink);\n",
              "      }\n",
              "    </script>\n",
              "  </div>\n",
              "\n",
              "\n",
              "<div id=\"df-5b171729-ad58-4776-93ad-8a7cc5eb5425\">\n",
              "  <button class=\"colab-df-quickchart\" onclick=\"quickchart('df-5b171729-ad58-4776-93ad-8a7cc5eb5425')\"\n",
              "            title=\"Suggest charts\"\n",
              "            style=\"display:none;\">\n",
              "\n",
              "<svg xmlns=\"http://www.w3.org/2000/svg\" height=\"24px\"viewBox=\"0 0 24 24\"\n",
              "     width=\"24px\">\n",
              "    <g>\n",
              "        <path d=\"M19 3H5c-1.1 0-2 .9-2 2v14c0 1.1.9 2 2 2h14c1.1 0 2-.9 2-2V5c0-1.1-.9-2-2-2zM9 17H7v-7h2v7zm4 0h-2V7h2v10zm4 0h-2v-4h2v4z\"/>\n",
              "    </g>\n",
              "</svg>\n",
              "  </button>\n",
              "\n",
              "<style>\n",
              "  .colab-df-quickchart {\n",
              "      --bg-color: #E8F0FE;\n",
              "      --fill-color: #1967D2;\n",
              "      --hover-bg-color: #E2EBFA;\n",
              "      --hover-fill-color: #174EA6;\n",
              "      --disabled-fill-color: #AAA;\n",
              "      --disabled-bg-color: #DDD;\n",
              "  }\n",
              "\n",
              "  [theme=dark] .colab-df-quickchart {\n",
              "      --bg-color: #3B4455;\n",
              "      --fill-color: #D2E3FC;\n",
              "      --hover-bg-color: #434B5C;\n",
              "      --hover-fill-color: #FFFFFF;\n",
              "      --disabled-bg-color: #3B4455;\n",
              "      --disabled-fill-color: #666;\n",
              "  }\n",
              "\n",
              "  .colab-df-quickchart {\n",
              "    background-color: var(--bg-color);\n",
              "    border: none;\n",
              "    border-radius: 50%;\n",
              "    cursor: pointer;\n",
              "    display: none;\n",
              "    fill: var(--fill-color);\n",
              "    height: 32px;\n",
              "    padding: 0;\n",
              "    width: 32px;\n",
              "  }\n",
              "\n",
              "  .colab-df-quickchart:hover {\n",
              "    background-color: var(--hover-bg-color);\n",
              "    box-shadow: 0 1px 2px rgba(60, 64, 67, 0.3), 0 1px 3px 1px rgba(60, 64, 67, 0.15);\n",
              "    fill: var(--button-hover-fill-color);\n",
              "  }\n",
              "\n",
              "  .colab-df-quickchart-complete:disabled,\n",
              "  .colab-df-quickchart-complete:disabled:hover {\n",
              "    background-color: var(--disabled-bg-color);\n",
              "    fill: var(--disabled-fill-color);\n",
              "    box-shadow: none;\n",
              "  }\n",
              "\n",
              "  .colab-df-spinner {\n",
              "    border: 2px solid var(--fill-color);\n",
              "    border-color: transparent;\n",
              "    border-bottom-color: var(--fill-color);\n",
              "    animation:\n",
              "      spin 1s steps(1) infinite;\n",
              "  }\n",
              "\n",
              "  @keyframes spin {\n",
              "    0% {\n",
              "      border-color: transparent;\n",
              "      border-bottom-color: var(--fill-color);\n",
              "      border-left-color: var(--fill-color);\n",
              "    }\n",
              "    20% {\n",
              "      border-color: transparent;\n",
              "      border-left-color: var(--fill-color);\n",
              "      border-top-color: var(--fill-color);\n",
              "    }\n",
              "    30% {\n",
              "      border-color: transparent;\n",
              "      border-left-color: var(--fill-color);\n",
              "      border-top-color: var(--fill-color);\n",
              "      border-right-color: var(--fill-color);\n",
              "    }\n",
              "    40% {\n",
              "      border-color: transparent;\n",
              "      border-right-color: var(--fill-color);\n",
              "      border-top-color: var(--fill-color);\n",
              "    }\n",
              "    60% {\n",
              "      border-color: transparent;\n",
              "      border-right-color: var(--fill-color);\n",
              "    }\n",
              "    80% {\n",
              "      border-color: transparent;\n",
              "      border-right-color: var(--fill-color);\n",
              "      border-bottom-color: var(--fill-color);\n",
              "    }\n",
              "    90% {\n",
              "      border-color: transparent;\n",
              "      border-bottom-color: var(--fill-color);\n",
              "    }\n",
              "  }\n",
              "</style>\n",
              "\n",
              "  <script>\n",
              "    async function quickchart(key) {\n",
              "      const quickchartButtonEl =\n",
              "        document.querySelector('#' + key + ' button');\n",
              "      quickchartButtonEl.disabled = true;  // To prevent multiple clicks.\n",
              "      quickchartButtonEl.classList.add('colab-df-spinner');\n",
              "      try {\n",
              "        const charts = await google.colab.kernel.invokeFunction(\n",
              "            'suggestCharts', [key], {});\n",
              "      } catch (error) {\n",
              "        console.error('Error during call to suggestCharts:', error);\n",
              "      }\n",
              "      quickchartButtonEl.classList.remove('colab-df-spinner');\n",
              "      quickchartButtonEl.classList.add('colab-df-quickchart-complete');\n",
              "    }\n",
              "    (() => {\n",
              "      let quickchartButtonEl =\n",
              "        document.querySelector('#df-5b171729-ad58-4776-93ad-8a7cc5eb5425 button');\n",
              "      quickchartButtonEl.style.display =\n",
              "        google.colab.kernel.accessAllowed ? 'block' : 'none';\n",
              "    })();\n",
              "  </script>\n",
              "</div>\n",
              "    </div>\n",
              "  </div>\n"
            ]
          },
          "metadata": {},
          "execution_count": 5
        }
      ],
      "source": [
        "# Check the dataset\n",
        "df.head()"
      ]
    },
    {
      "cell_type": "code",
      "execution_count": null,
      "metadata": {
        "colab": {
          "base_uri": "https://localhost:8080/",
          "height": 237
        },
        "id": "ELdWzXO24083",
        "outputId": "2a6dfc18-07ed-483a-cfec-a80bc810e3ac"
      },
      "outputs": [
        {
          "output_type": "execute_result",
          "data": {
            "text/plain": [
              "                    Open          High           Low         Close  \\\n",
              "Date                                                                 \n",
              "2023-11-29  19976.550781  20104.650391  19956.300781  20096.599609   \n",
              "2023-11-30  20108.500000  20158.699219  20015.849609  20133.150391   \n",
              "2023-12-01  20194.099609  20291.550781  20183.699219  20267.900391   \n",
              "2023-12-04  20601.949219  20702.650391  20507.750000  20686.800781   \n",
              "2023-12-05  20808.900391  20864.050781  20711.150391  20855.099609   \n",
              "\n",
              "               Adj Close  Volume  \n",
              "Date                              \n",
              "2023-11-29  20096.599609  236200  \n",
              "2023-11-30  20133.150391  486600  \n",
              "2023-12-01  20267.900391  265800  \n",
              "2023-12-04  20686.800781  381100  \n",
              "2023-12-05  20855.099609       0  "
            ],
            "text/html": [
              "\n",
              "  <div id=\"df-e50bdeb7-0e37-447d-8646-f37756203333\" class=\"colab-df-container\">\n",
              "    <div>\n",
              "<style scoped>\n",
              "    .dataframe tbody tr th:only-of-type {\n",
              "        vertical-align: middle;\n",
              "    }\n",
              "\n",
              "    .dataframe tbody tr th {\n",
              "        vertical-align: top;\n",
              "    }\n",
              "\n",
              "    .dataframe thead th {\n",
              "        text-align: right;\n",
              "    }\n",
              "</style>\n",
              "<table border=\"1\" class=\"dataframe\">\n",
              "  <thead>\n",
              "    <tr style=\"text-align: right;\">\n",
              "      <th></th>\n",
              "      <th>Open</th>\n",
              "      <th>High</th>\n",
              "      <th>Low</th>\n",
              "      <th>Close</th>\n",
              "      <th>Adj Close</th>\n",
              "      <th>Volume</th>\n",
              "    </tr>\n",
              "    <tr>\n",
              "      <th>Date</th>\n",
              "      <th></th>\n",
              "      <th></th>\n",
              "      <th></th>\n",
              "      <th></th>\n",
              "      <th></th>\n",
              "      <th></th>\n",
              "    </tr>\n",
              "  </thead>\n",
              "  <tbody>\n",
              "    <tr>\n",
              "      <th>2023-11-29</th>\n",
              "      <td>19976.550781</td>\n",
              "      <td>20104.650391</td>\n",
              "      <td>19956.300781</td>\n",
              "      <td>20096.599609</td>\n",
              "      <td>20096.599609</td>\n",
              "      <td>236200</td>\n",
              "    </tr>\n",
              "    <tr>\n",
              "      <th>2023-11-30</th>\n",
              "      <td>20108.500000</td>\n",
              "      <td>20158.699219</td>\n",
              "      <td>20015.849609</td>\n",
              "      <td>20133.150391</td>\n",
              "      <td>20133.150391</td>\n",
              "      <td>486600</td>\n",
              "    </tr>\n",
              "    <tr>\n",
              "      <th>2023-12-01</th>\n",
              "      <td>20194.099609</td>\n",
              "      <td>20291.550781</td>\n",
              "      <td>20183.699219</td>\n",
              "      <td>20267.900391</td>\n",
              "      <td>20267.900391</td>\n",
              "      <td>265800</td>\n",
              "    </tr>\n",
              "    <tr>\n",
              "      <th>2023-12-04</th>\n",
              "      <td>20601.949219</td>\n",
              "      <td>20702.650391</td>\n",
              "      <td>20507.750000</td>\n",
              "      <td>20686.800781</td>\n",
              "      <td>20686.800781</td>\n",
              "      <td>381100</td>\n",
              "    </tr>\n",
              "    <tr>\n",
              "      <th>2023-12-05</th>\n",
              "      <td>20808.900391</td>\n",
              "      <td>20864.050781</td>\n",
              "      <td>20711.150391</td>\n",
              "      <td>20855.099609</td>\n",
              "      <td>20855.099609</td>\n",
              "      <td>0</td>\n",
              "    </tr>\n",
              "  </tbody>\n",
              "</table>\n",
              "</div>\n",
              "    <div class=\"colab-df-buttons\">\n",
              "\n",
              "  <div class=\"colab-df-container\">\n",
              "    <button class=\"colab-df-convert\" onclick=\"convertToInteractive('df-e50bdeb7-0e37-447d-8646-f37756203333')\"\n",
              "            title=\"Convert this dataframe to an interactive table.\"\n",
              "            style=\"display:none;\">\n",
              "\n",
              "  <svg xmlns=\"http://www.w3.org/2000/svg\" height=\"24px\" viewBox=\"0 -960 960 960\">\n",
              "    <path d=\"M120-120v-720h720v720H120Zm60-500h600v-160H180v160Zm220 220h160v-160H400v160Zm0 220h160v-160H400v160ZM180-400h160v-160H180v160Zm440 0h160v-160H620v160ZM180-180h160v-160H180v160Zm440 0h160v-160H620v160Z\"/>\n",
              "  </svg>\n",
              "    </button>\n",
              "\n",
              "  <style>\n",
              "    .colab-df-container {\n",
              "      display:flex;\n",
              "      gap: 12px;\n",
              "    }\n",
              "\n",
              "    .colab-df-convert {\n",
              "      background-color: #E8F0FE;\n",
              "      border: none;\n",
              "      border-radius: 50%;\n",
              "      cursor: pointer;\n",
              "      display: none;\n",
              "      fill: #1967D2;\n",
              "      height: 32px;\n",
              "      padding: 0 0 0 0;\n",
              "      width: 32px;\n",
              "    }\n",
              "\n",
              "    .colab-df-convert:hover {\n",
              "      background-color: #E2EBFA;\n",
              "      box-shadow: 0px 1px 2px rgba(60, 64, 67, 0.3), 0px 1px 3px 1px rgba(60, 64, 67, 0.15);\n",
              "      fill: #174EA6;\n",
              "    }\n",
              "\n",
              "    .colab-df-buttons div {\n",
              "      margin-bottom: 4px;\n",
              "    }\n",
              "\n",
              "    [theme=dark] .colab-df-convert {\n",
              "      background-color: #3B4455;\n",
              "      fill: #D2E3FC;\n",
              "    }\n",
              "\n",
              "    [theme=dark] .colab-df-convert:hover {\n",
              "      background-color: #434B5C;\n",
              "      box-shadow: 0px 1px 3px 1px rgba(0, 0, 0, 0.15);\n",
              "      filter: drop-shadow(0px 1px 2px rgba(0, 0, 0, 0.3));\n",
              "      fill: #FFFFFF;\n",
              "    }\n",
              "  </style>\n",
              "\n",
              "    <script>\n",
              "      const buttonEl =\n",
              "        document.querySelector('#df-e50bdeb7-0e37-447d-8646-f37756203333 button.colab-df-convert');\n",
              "      buttonEl.style.display =\n",
              "        google.colab.kernel.accessAllowed ? 'block' : 'none';\n",
              "\n",
              "      async function convertToInteractive(key) {\n",
              "        const element = document.querySelector('#df-e50bdeb7-0e37-447d-8646-f37756203333');\n",
              "        const dataTable =\n",
              "          await google.colab.kernel.invokeFunction('convertToInteractive',\n",
              "                                                    [key], {});\n",
              "        if (!dataTable) return;\n",
              "\n",
              "        const docLinkHtml = 'Like what you see? Visit the ' +\n",
              "          '<a target=\"_blank\" href=https://colab.research.google.com/notebooks/data_table.ipynb>data table notebook</a>'\n",
              "          + ' to learn more about interactive tables.';\n",
              "        element.innerHTML = '';\n",
              "        dataTable['output_type'] = 'display_data';\n",
              "        await google.colab.output.renderOutput(dataTable, element);\n",
              "        const docLink = document.createElement('div');\n",
              "        docLink.innerHTML = docLinkHtml;\n",
              "        element.appendChild(docLink);\n",
              "      }\n",
              "    </script>\n",
              "  </div>\n",
              "\n",
              "\n",
              "<div id=\"df-d9413eab-091c-4848-8cc5-79e743dfc5dc\">\n",
              "  <button class=\"colab-df-quickchart\" onclick=\"quickchart('df-d9413eab-091c-4848-8cc5-79e743dfc5dc')\"\n",
              "            title=\"Suggest charts\"\n",
              "            style=\"display:none;\">\n",
              "\n",
              "<svg xmlns=\"http://www.w3.org/2000/svg\" height=\"24px\"viewBox=\"0 0 24 24\"\n",
              "     width=\"24px\">\n",
              "    <g>\n",
              "        <path d=\"M19 3H5c-1.1 0-2 .9-2 2v14c0 1.1.9 2 2 2h14c1.1 0 2-.9 2-2V5c0-1.1-.9-2-2-2zM9 17H7v-7h2v7zm4 0h-2V7h2v10zm4 0h-2v-4h2v4z\"/>\n",
              "    </g>\n",
              "</svg>\n",
              "  </button>\n",
              "\n",
              "<style>\n",
              "  .colab-df-quickchart {\n",
              "      --bg-color: #E8F0FE;\n",
              "      --fill-color: #1967D2;\n",
              "      --hover-bg-color: #E2EBFA;\n",
              "      --hover-fill-color: #174EA6;\n",
              "      --disabled-fill-color: #AAA;\n",
              "      --disabled-bg-color: #DDD;\n",
              "  }\n",
              "\n",
              "  [theme=dark] .colab-df-quickchart {\n",
              "      --bg-color: #3B4455;\n",
              "      --fill-color: #D2E3FC;\n",
              "      --hover-bg-color: #434B5C;\n",
              "      --hover-fill-color: #FFFFFF;\n",
              "      --disabled-bg-color: #3B4455;\n",
              "      --disabled-fill-color: #666;\n",
              "  }\n",
              "\n",
              "  .colab-df-quickchart {\n",
              "    background-color: var(--bg-color);\n",
              "    border: none;\n",
              "    border-radius: 50%;\n",
              "    cursor: pointer;\n",
              "    display: none;\n",
              "    fill: var(--fill-color);\n",
              "    height: 32px;\n",
              "    padding: 0;\n",
              "    width: 32px;\n",
              "  }\n",
              "\n",
              "  .colab-df-quickchart:hover {\n",
              "    background-color: var(--hover-bg-color);\n",
              "    box-shadow: 0 1px 2px rgba(60, 64, 67, 0.3), 0 1px 3px 1px rgba(60, 64, 67, 0.15);\n",
              "    fill: var(--button-hover-fill-color);\n",
              "  }\n",
              "\n",
              "  .colab-df-quickchart-complete:disabled,\n",
              "  .colab-df-quickchart-complete:disabled:hover {\n",
              "    background-color: var(--disabled-bg-color);\n",
              "    fill: var(--disabled-fill-color);\n",
              "    box-shadow: none;\n",
              "  }\n",
              "\n",
              "  .colab-df-spinner {\n",
              "    border: 2px solid var(--fill-color);\n",
              "    border-color: transparent;\n",
              "    border-bottom-color: var(--fill-color);\n",
              "    animation:\n",
              "      spin 1s steps(1) infinite;\n",
              "  }\n",
              "\n",
              "  @keyframes spin {\n",
              "    0% {\n",
              "      border-color: transparent;\n",
              "      border-bottom-color: var(--fill-color);\n",
              "      border-left-color: var(--fill-color);\n",
              "    }\n",
              "    20% {\n",
              "      border-color: transparent;\n",
              "      border-left-color: var(--fill-color);\n",
              "      border-top-color: var(--fill-color);\n",
              "    }\n",
              "    30% {\n",
              "      border-color: transparent;\n",
              "      border-left-color: var(--fill-color);\n",
              "      border-top-color: var(--fill-color);\n",
              "      border-right-color: var(--fill-color);\n",
              "    }\n",
              "    40% {\n",
              "      border-color: transparent;\n",
              "      border-right-color: var(--fill-color);\n",
              "      border-top-color: var(--fill-color);\n",
              "    }\n",
              "    60% {\n",
              "      border-color: transparent;\n",
              "      border-right-color: var(--fill-color);\n",
              "    }\n",
              "    80% {\n",
              "      border-color: transparent;\n",
              "      border-right-color: var(--fill-color);\n",
              "      border-bottom-color: var(--fill-color);\n",
              "    }\n",
              "    90% {\n",
              "      border-color: transparent;\n",
              "      border-bottom-color: var(--fill-color);\n",
              "    }\n",
              "  }\n",
              "</style>\n",
              "\n",
              "  <script>\n",
              "    async function quickchart(key) {\n",
              "      const quickchartButtonEl =\n",
              "        document.querySelector('#' + key + ' button');\n",
              "      quickchartButtonEl.disabled = true;  // To prevent multiple clicks.\n",
              "      quickchartButtonEl.classList.add('colab-df-spinner');\n",
              "      try {\n",
              "        const charts = await google.colab.kernel.invokeFunction(\n",
              "            'suggestCharts', [key], {});\n",
              "      } catch (error) {\n",
              "        console.error('Error during call to suggestCharts:', error);\n",
              "      }\n",
              "      quickchartButtonEl.classList.remove('colab-df-spinner');\n",
              "      quickchartButtonEl.classList.add('colab-df-quickchart-complete');\n",
              "    }\n",
              "    (() => {\n",
              "      let quickchartButtonEl =\n",
              "        document.querySelector('#df-d9413eab-091c-4848-8cc5-79e743dfc5dc button');\n",
              "      quickchartButtonEl.style.display =\n",
              "        google.colab.kernel.accessAllowed ? 'block' : 'none';\n",
              "    })();\n",
              "  </script>\n",
              "</div>\n",
              "    </div>\n",
              "  </div>\n"
            ]
          },
          "metadata": {},
          "execution_count": 6
        }
      ],
      "source": [
        "df.tail()"
      ]
    },
    {
      "cell_type": "code",
      "execution_count": null,
      "metadata": {
        "colab": {
          "base_uri": "https://localhost:8080/"
        },
        "id": "jcQPVw1L7EkH",
        "outputId": "883ff2c8-5c1e-446a-d333-ed609b1d81f4"
      },
      "outputs": [
        {
          "output_type": "execute_result",
          "data": {
            "text/plain": [
              "(2454, 6)"
            ]
          },
          "metadata": {},
          "execution_count": 7
        }
      ],
      "source": [
        "# Check the number of rows and columns in the dataframe\n",
        "df.shape"
      ]
    },
    {
      "cell_type": "code",
      "execution_count": null,
      "metadata": {
        "colab": {
          "base_uri": "https://localhost:8080/",
          "height": 567
        },
        "id": "s2CeVk8K5SJf",
        "outputId": "87264913-c464-4f65-8d18-b66b3e8b9fa8"
      },
      "outputs": [
        {
          "output_type": "display_data",
          "data": {
            "text/plain": [
              "<Figure size 2000x1000 with 1 Axes>"
            ],
            "image/png": "[encoded data removed]"
          },
          "metadata": {}
        }
      ],
      "source": [
        "# Plot the adjusted close price\n",
        "df['Adj Close'].plot()\n",
        "plt.ylabel('Adjusted Close price')\n",
        "plt.title(f'Price history for {ticker}')\n",
        "plt.show()"
      ]
    },
    {
      "cell_type": "code",
      "source": [
        "\n",
        "# Calculate Stochastic Oscillator\n",
        "stoch = talib.STOCH(df['High'], df['Low'], df['Close'])\n",
        "stoch_k = stoch[0]  # %K line\n",
        "stoch_d = stoch[1]  # %D line\n",
        "\n",
        "# Calculate RSI\n",
        "rsi = talib.RSI(df['Close'])\n",
        "\n",
        "# Calculate SuperTrend\n",
        "high = df['High']\n",
        "low = df['Low']\n",
        "close = df['Close']\n",
        "atr = talib.ATR(high, low, close, timeperiod=14)  # Average True Range\n",
        "super_trend = talib.SMA(close, timeperiod=10) + (atr * 2)  # SuperTrend calculation\n",
        "\n",
        "# Create a DataFrame to store the indicators\n",
        "indicators = pd.DataFrame({\n",
        "    'Stoch_K': stoch_k,\n",
        "    'Stoch_D': stoch_d,\n",
        "    'RSI': rsi,\n",
        "    'SuperTrend': super_trend\n",
        "}, index=df.index)\n",
        "\n",
        "\n",
        "df1 = pd.concat([df, indicators], axis=1)"
      ],
      "metadata": {
        "id": "WTWroyoCetrA"
      },
      "execution_count": null,
      "outputs": []
    },
    {
      "cell_type": "code",
      "execution_count": null,
      "metadata": {
        "colab": {
          "base_uri": "https://localhost:8080/",
          "height": 237
        },
        "id": "kHWkZ32d6j5b",
        "outputId": "264efa6d-292d-4290-bc91-55f1600b5f20"
      },
      "outputs": [
        {
          "output_type": "execute_result",
          "data": {
            "text/plain": [
              "                    Low        Close  Volume    Stoch_K    Stoch_D        RSI  \\\n",
              "Date                                                                            \n",
              "2013-12-26  6259.450195  6278.899902  182300  77.694446  76.208601  53.044933   \n",
              "2013-12-27  6289.399902  6313.799805   96900  81.165483  80.685836  55.725814   \n",
              "2013-12-30  6273.149902  6291.100098  101300  69.029206  75.963045  53.582913   \n",
              "2013-12-31  6287.299805  6304.000000  103400  60.962926  70.385872  54.650177   \n",
              "2014-01-02  6211.299805  6221.149902  158100  32.257246  54.083126  47.151553   \n",
              "\n",
              "             SuperTrend  \n",
              "Date                     \n",
              "2013-12-26  6365.612033  \n",
              "2013-12-27  6369.379383  \n",
              "2013-12-30  6381.577999  \n",
              "2013-12-31  6390.598833  \n",
              "2014-01-02  6410.036064  "
            ],
            "text/html": [
              "\n",
              "  <div id=\"df-0aa34a19-13c7-4fcb-8b36-db32115d80fa\" class=\"colab-df-container\">\n",
              "    <div>\n",
              "<style scoped>\n",
              "    .dataframe tbody tr th:only-of-type {\n",
              "        vertical-align: middle;\n",
              "    }\n",
              "\n",
              "    .dataframe tbody tr th {\n",
              "        vertical-align: top;\n",
              "    }\n",
              "\n",
              "    .dataframe thead th {\n",
              "        text-align: right;\n",
              "    }\n",
              "</style>\n",
              "<table border=\"1\" class=\"dataframe\">\n",
              "  <thead>\n",
              "    <tr style=\"text-align: right;\">\n",
              "      <th></th>\n",
              "      <th>Low</th>\n",
              "      <th>Close</th>\n",
              "      <th>Volume</th>\n",
              "      <th>Stoch_K</th>\n",
              "      <th>Stoch_D</th>\n",
              "      <th>RSI</th>\n",
              "      <th>SuperTrend</th>\n",
              "    </tr>\n",
              "    <tr>\n",
              "      <th>Date</th>\n",
              "      <th></th>\n",
              "      <th></th>\n",
              "      <th></th>\n",
              "      <th></th>\n",
              "      <th></th>\n",
              "      <th></th>\n",
              "      <th></th>\n",
              "    </tr>\n",
              "  </thead>\n",
              "  <tbody>\n",
              "    <tr>\n",
              "      <th>2013-12-26</th>\n",
              "      <td>6259.450195</td>\n",
              "      <td>6278.899902</td>\n",
              "      <td>182300</td>\n",
              "      <td>77.694446</td>\n",
              "      <td>76.208601</td>\n",
              "      <td>53.044933</td>\n",
              "      <td>6365.612033</td>\n",
              "    </tr>\n",
              "    <tr>\n",
              "      <th>2013-12-27</th>\n",
              "      <td>6289.399902</td>\n",
              "      <td>6313.799805</td>\n",
              "      <td>96900</td>\n",
              "      <td>81.165483</td>\n",
              "      <td>80.685836</td>\n",
              "      <td>55.725814</td>\n",
              "      <td>6369.379383</td>\n",
              "    </tr>\n",
              "    <tr>\n",
              "      <th>2013-12-30</th>\n",
              "      <td>6273.149902</td>\n",
              "      <td>6291.100098</td>\n",
              "      <td>101300</td>\n",
              "      <td>69.029206</td>\n",
              "      <td>75.963045</td>\n",
              "      <td>53.582913</td>\n",
              "      <td>6381.577999</td>\n",
              "    </tr>\n",
              "    <tr>\n",
              "      <th>2013-12-31</th>\n",
              "      <td>6287.299805</td>\n",
              "      <td>6304.000000</td>\n",
              "      <td>103400</td>\n",
              "      <td>60.962926</td>\n",
              "      <td>70.385872</td>\n",
              "      <td>54.650177</td>\n",
              "      <td>6390.598833</td>\n",
              "    </tr>\n",
              "    <tr>\n",
              "      <th>2014-01-02</th>\n",
              "      <td>6211.299805</td>\n",
              "      <td>6221.149902</td>\n",
              "      <td>158100</td>\n",
              "      <td>32.257246</td>\n",
              "      <td>54.083126</td>\n",
              "      <td>47.151553</td>\n",
              "      <td>6410.036064</td>\n",
              "    </tr>\n",
              "  </tbody>\n",
              "</table>\n",
              "</div>\n",
              "    <div class=\"colab-df-buttons\">\n",
              "\n",
              "  <div class=\"colab-df-container\">\n",
              "    <button class=\"colab-df-convert\" onclick=\"convertToInteractive('df-0aa34a19-13c7-4fcb-8b36-db32115d80fa')\"\n",
              "            title=\"Convert this dataframe to an interactive table.\"\n",
              "            style=\"display:none;\">\n",
              "\n",
              "  <svg xmlns=\"http://www.w3.org/2000/svg\" height=\"24px\" viewBox=\"0 -960 960 960\">\n",
              "    <path d=\"M120-120v-720h720v720H120Zm60-500h600v-160H180v160Zm220 220h160v-160H400v160Zm0 220h160v-160H400v160ZM180-400h160v-160H180v160Zm440 0h160v-160H620v160ZM180-180h160v-160H180v160Zm440 0h160v-160H620v160Z\"/>\n",
              "  </svg>\n",
              "    </button>\n",
              "\n",
              "  <style>\n",
              "    .colab-df-container {\n",
              "      display:flex;\n",
              "      gap: 12px;\n",
              "    }\n",
              "\n",
              "    .colab-df-convert {\n",
              "      background-color: #E8F0FE;\n",
              "      border: none;\n",
              "      border-radius: 50%;\n",
              "      cursor: pointer;\n",
              "      display: none;\n",
              "      fill: #1967D2;\n",
              "      height: 32px;\n",
              "      padding: 0 0 0 0;\n",
              "      width: 32px;\n",
              "    }\n",
              "\n",
              "    .colab-df-convert:hover {\n",
              "      background-color: #E2EBFA;\n",
              "      box-shadow: 0px 1px 2px rgba(60, 64, 67, 0.3), 0px 1px 3px 1px rgba(60, 64, 67, 0.15);\n",
              "      fill: #174EA6;\n",
              "    }\n",
              "\n",
              "    .colab-df-buttons div {\n",
              "      margin-bottom: 4px;\n",
              "    }\n",
              "\n",
              "    [theme=dark] .colab-df-convert {\n",
              "      background-color: #3B4455;\n",
              "      fill: #D2E3FC;\n",
              "    }\n",
              "\n",
              "    [theme=dark] .colab-df-convert:hover {\n",
              "      background-color: #434B5C;\n",
              "      box-shadow: 0px 1px 3px 1px rgba(0, 0, 0, 0.15);\n",
              "      filter: drop-shadow(0px 1px 2px rgba(0, 0, 0, 0.3));\n",
              "      fill: #FFFFFF;\n",
              "    }\n",
              "  </style>\n",
              "\n",
              "    <script>\n",
              "      const buttonEl =\n",
              "        document.querySelector('#df-0aa34a19-13c7-4fcb-8b36-db32115d80fa button.colab-df-convert');\n",
              "      buttonEl.style.display =\n",
              "        google.colab.kernel.accessAllowed ? 'block' : 'none';\n",
              "\n",
              "      async function convertToInteractive(key) {\n",
              "        const element = document.querySelector('#df-0aa34a19-13c7-4fcb-8b36-db32115d80fa');\n",
              "        const dataTable =\n",
              "          await google.colab.kernel.invokeFunction('convertToInteractive',\n",
              "                                                    [key], {});\n",
              "        if (!dataTable) return;\n",
              "\n",
              "        const docLinkHtml = 'Like what you see? Visit the ' +\n",
              "          '<a target=\"_blank\" href=https://colab.research.google.com/notebooks/data_table.ipynb>data table notebook</a>'\n",
              "          + ' to learn more about interactive tables.';\n",
              "        element.innerHTML = '';\n",
              "        dataTable['output_type'] = 'display_data';\n",
              "        await google.colab.output.renderOutput(dataTable, element);\n",
              "        const docLink = document.createElement('div');\n",
              "        docLink.innerHTML = docLinkHtml;\n",
              "        element.appendChild(docLink);\n",
              "      }\n",
              "    </script>\n",
              "  </div>\n",
              "\n",
              "\n",
              "<div id=\"df-9115d280-7e9a-4e61-a2c8-ccedee627941\">\n",
              "  <button class=\"colab-df-quickchart\" onclick=\"quickchart('df-9115d280-7e9a-4e61-a2c8-ccedee627941')\"\n",
              "            title=\"Suggest charts\"\n",
              "            style=\"display:none;\">\n",
              "\n",
              "<svg xmlns=\"http://www.w3.org/2000/svg\" height=\"24px\"viewBox=\"0 0 24 24\"\n",
              "     width=\"24px\">\n",
              "    <g>\n",
              "        <path d=\"M19 3H5c-1.1 0-2 .9-2 2v14c0 1.1.9 2 2 2h14c1.1 0 2-.9 2-2V5c0-1.1-.9-2-2-2zM9 17H7v-7h2v7zm4 0h-2V7h2v10zm4 0h-2v-4h2v4z\"/>\n",
              "    </g>\n",
              "</svg>\n",
              "  </button>\n",
              "\n",
              "<style>\n",
              "  .colab-df-quickchart {\n",
              "      --bg-color: #E8F0FE;\n",
              "      --fill-color: #1967D2;\n",
              "      --hover-bg-color: #E2EBFA;\n",
              "      --hover-fill-color: #174EA6;\n",
              "      --disabled-fill-color: #AAA;\n",
              "      --disabled-bg-color: #DDD;\n",
              "  }\n",
              "\n",
              "  [theme=dark] .colab-df-quickchart {\n",
              "      --bg-color: #3B4455;\n",
              "      --fill-color: #D2E3FC;\n",
              "      --hover-bg-color: #434B5C;\n",
              "      --hover-fill-color: #FFFFFF;\n",
              "      --disabled-bg-color: #3B4455;\n",
              "      --disabled-fill-color: #666;\n",
              "  }\n",
              "\n",
              "  .colab-df-quickchart {\n",
              "    background-color: var(--bg-color);\n",
              "    border: none;\n",
              "    border-radius: 50%;\n",
              "    cursor: pointer;\n",
              "    display: none;\n",
              "    fill: var(--fill-color);\n",
              "    height: 32px;\n",
              "    padding: 0;\n",
              "    width: 32px;\n",
              "  }\n",
              "\n",
              "  .colab-df-quickchart:hover {\n",
              "    background-color: var(--hover-bg-color);\n",
              "    box-shadow: 0 1px 2px rgba(60, 64, 67, 0.3), 0 1px 3px 1px rgba(60, 64, 67, 0.15);\n",
              "    fill: var(--button-hover-fill-color);\n",
              "  }\n",
              "\n",
              "  .colab-df-quickchart-complete:disabled,\n",
              "  .colab-df-quickchart-complete:disabled:hover {\n",
              "    background-color: var(--disabled-bg-color);\n",
              "    fill: var(--disabled-fill-color);\n",
              "    box-shadow: none;\n",
              "  }\n",
              "\n",
              "  .colab-df-spinner {\n",
              "    border: 2px solid var(--fill-color);\n",
              "    border-color: transparent;\n",
              "    border-bottom-color: var(--fill-color);\n",
              "    animation:\n",
              "      spin 1s steps(1) infinite;\n",
              "  }\n",
              "\n",
              "  @keyframes spin {\n",
              "    0% {\n",
              "      border-color: transparent;\n",
              "      border-bottom-color: var(--fill-color);\n",
              "      border-left-color: var(--fill-color);\n",
              "    }\n",
              "    20% {\n",
              "      border-color: transparent;\n",
              "      border-left-color: var(--fill-color);\n",
              "      border-top-color: var(--fill-color);\n",
              "    }\n",
              "    30% {\n",
              "      border-color: transparent;\n",
              "      border-left-color: var(--fill-color);\n",
              "      border-top-color: var(--fill-color);\n",
              "      border-right-color: var(--fill-color);\n",
              "    }\n",
              "    40% {\n",
              "      border-color: transparent;\n",
              "      border-right-color: var(--fill-color);\n",
              "      border-top-color: var(--fill-color);\n",
              "    }\n",
              "    60% {\n",
              "      border-color: transparent;\n",
              "      border-right-color: var(--fill-color);\n",
              "    }\n",
              "    80% {\n",
              "      border-color: transparent;\n",
              "      border-right-color: var(--fill-color);\n",
              "      border-bottom-color: var(--fill-color);\n",
              "    }\n",
              "    90% {\n",
              "      border-color: transparent;\n",
              "      border-bottom-color: var(--fill-color);\n",
              "    }\n",
              "  }\n",
              "</style>\n",
              "\n",
              "  <script>\n",
              "    async function quickchart(key) {\n",
              "      const quickchartButtonEl =\n",
              "        document.querySelector('#' + key + ' button');\n",
              "      quickchartButtonEl.disabled = true;  // To prevent multiple clicks.\n",
              "      quickchartButtonEl.classList.add('colab-df-spinner');\n",
              "      try {\n",
              "        const charts = await google.colab.kernel.invokeFunction(\n",
              "            'suggestCharts', [key], {});\n",
              "      } catch (error) {\n",
              "        console.error('Error during call to suggestCharts:', error);\n",
              "      }\n",
              "      quickchartButtonEl.classList.remove('colab-df-spinner');\n",
              "      quickchartButtonEl.classList.add('colab-df-quickchart-complete');\n",
              "    }\n",
              "    (() => {\n",
              "      let quickchartButtonEl =\n",
              "        document.querySelector('#df-9115d280-7e9a-4e61-a2c8-ccedee627941 button');\n",
              "      quickchartButtonEl.style.display =\n",
              "        google.colab.kernel.accessAllowed ? 'block' : 'none';\n",
              "    })();\n",
              "  </script>\n",
              "</div>\n",
              "    </div>\n",
              "  </div>\n"
            ]
          },
          "metadata": {},
          "execution_count": 10
        }
      ],
      "source": [
        "# Check the filtered dataset\n",
        "df1.drop(['Open','Adj Close','High'],axis=1,inplace=True)\n",
        "df1.dropna(inplace=True)\n",
        "df1.head()"
      ]
    },
    {
      "cell_type": "code",
      "execution_count": null,
      "metadata": {
        "colab": {
          "base_uri": "https://localhost:8080/"
        },
        "id": "X3FjpKsg7Au1",
        "outputId": "51006506-065b-4c6e-f350-54387e776f14"
      },
      "outputs": [
        {
          "output_type": "execute_result",
          "data": {
            "text/plain": [
              "(2440, 7)"
            ]
          },
          "metadata": {},
          "execution_count": 11
        }
      ],
      "source": [
        "\n",
        "df1.shape"
      ]
    },
    {
      "cell_type": "code",
      "execution_count": null,
      "metadata": {
        "id": "0HVIgHDo-GV8",
        "colab": {
          "base_uri": "https://localhost:8080/"
        },
        "outputId": "254907b3-345f-4bab-e8a9-95efe1f6ff87"
      },
      "outputs": [
        {
          "output_type": "execute_result",
          "data": {
            "text/plain": [
              "array([[6.25945020e+03, 6.27889990e+03, 1.82300000e+05, ...,\n",
              "        7.62086007e+01, 5.30449326e+01, 6.36561203e+03],\n",
              "       [6.28939990e+03, 6.31379980e+03, 9.69000000e+04, ...,\n",
              "        8.06858365e+01, 5.57258139e+01, 6.36937938e+03],\n",
              "       [6.27314990e+03, 6.29110010e+03, 1.01300000e+05, ...,\n",
              "        7.59630449e+01, 5.35829126e+01, 6.38157800e+03],\n",
              "       ...,\n",
              "       [2.01836992e+04, 2.02679004e+04, 2.65800000e+05, ...,\n",
              "        9.01708301e+01, 7.50711899e+01, 2.01933566e+04],\n",
              "       [2.05077500e+04, 2.06868008e+04, 3.81100000e+05, ...,\n",
              "        9.47522522e+01, 8.18373472e+01, 2.03300461e+04],\n",
              "       [2.07111504e+04, 2.08550996e+04, 0.00000000e+00, ...,\n",
              "        9.63124985e+01, 8.37461135e+01, 2.04476178e+04]])"
            ]
          },
          "metadata": {},
          "execution_count": 12
        }
      ],
      "source": [
        "prices = df1.values\n",
        "prices"
      ]
    },
    {
      "cell_type": "code",
      "execution_count": null,
      "metadata": {
        "colab": {
          "base_uri": "https://localhost:8080/"
        },
        "id": "k3ogVtdRCmBh",
        "outputId": "92347df7-5816-42c8-d76b-49e81f143cab"
      },
      "outputs": [
        {
          "output_type": "execute_result",
          "data": {
            "text/plain": [
              "2440"
            ]
          },
          "metadata": {},
          "execution_count": 13
        }
      ],
      "source": [
        "# Check the prices array\n",
        "len(prices)"
      ]
    },
    {
      "cell_type": "markdown",
      "metadata": {
        "id": "lA9oA2UQCukY"
      },
      "source": [
        "\n",
        "## Creating the training and test data set"
      ]
    },
    {
      "cell_type": "markdown",
      "metadata": {
        "id": "k8dDnVXA1a65"
      },
      "source": [
        "We want 80% of the data for training the model, and 20% for the test data set. So, compute the number of records that are required for the training data set."
      ]
    },
    {
      "cell_type": "code",
      "execution_count": null,
      "metadata": {
        "id": "z09-Mn13Co0E"
      },
      "outputs": [],
      "source": [
        "# Computing the number of records we want in the training data set\n",
        "train_len = math.ceil(len(prices) * 0.8)\n",
        "train_len\n",
        "train_data = prices[0:train_len, :]\n",
        "#print(train_data)\n",
        "scaler = MinMaxScaler(feature_range=(0, 1))\n",
        "train_scaled_prices = scaler.fit_transform(train_data)\n"
      ]
    },
    {
      "cell_type": "code",
      "source": [
        "train_data"
      ],
      "metadata": {
        "colab": {
          "base_uri": "https://localhost:8080/"
        },
        "id": "4q_EGXgzcGmq",
        "outputId": "d6163418-3a37-47a9-f268-388304908e0f"
      },
      "execution_count": null,
      "outputs": [
        {
          "output_type": "execute_result",
          "data": {
            "text/plain": [
              "array([[6.25945020e+03, 6.27889990e+03, 1.82300000e+05, ...,\n",
              "        7.62086007e+01, 5.30449326e+01, 6.36561203e+03],\n",
              "       [6.28939990e+03, 6.31379980e+03, 9.69000000e+04, ...,\n",
              "        8.06858365e+01, 5.57258139e+01, 6.36937938e+03],\n",
              "       [6.27314990e+03, 6.29110010e+03, 1.01300000e+05, ...,\n",
              "        7.59630449e+01, 5.35829126e+01, 6.38157800e+03],\n",
              "       ...,\n",
              "       [1.73559492e+04, 1.73682500e+04, 2.56600000e+05, ...,\n",
              "        8.63738131e+01, 4.69007078e+01, 1.78041170e+04],\n",
              "       [1.72258008e+04, 1.73249004e+04, 2.71000000e+05, ...,\n",
              "        7.93944563e+01, 4.59115629e+01, 1.78216468e+04],\n",
              "       [1.71921992e+04, 1.72214004e+04, 2.15000000e+05, ...,\n",
              "        5.73024560e+01, 4.35499536e+01, 1.78128738e+04]])"
            ]
          },
          "metadata": {},
          "execution_count": 16
        }
      ]
    },
    {
      "cell_type": "code",
      "source": [
        "train_len"
      ],
      "metadata": {
        "colab": {
          "base_uri": "https://localhost:8080/"
        },
        "id": "5nU1QOrIg6hS",
        "outputId": "c0bb2d31-0fbd-46bc-bfe9-c7c059240b60"
      },
      "execution_count": null,
      "outputs": [
        {
          "output_type": "execute_result",
          "data": {
            "text/plain": [
              "1952"
            ]
          },
          "metadata": {},
          "execution_count": 17
        }
      ]
    },
    {
      "cell_type": "markdown",
      "metadata": {
        "id": "M_N3349pN3Lt"
      },
      "source": [
        "## Section 5: Define the features and the labels"
      ]
    },
    {
      "cell_type": "markdown",
      "metadata": {
        "id": "DcSPBUMs1a66"
      },
      "source": [
        "We should input our data in the form of a 3D array to the LSTM model. First, we create data in 60 timesteps before using numpy to convert it into an array. Finally, we convert the data into a 3D array with X_train samples, 60 timestamps, and one feature at each step."
      ]
    },
    {
      "cell_type": "markdown",
      "metadata": {
        "id": "H41GDCHH1a66"
      },
      "source": [
        "We\n",
        "\n",
        "1. Create an empty list for the features `x_train` and labels `y_train`.\n",
        "2. Create a 60-days window of historical prices as our feature data `x_train`."
      ]
    },
    {
      "cell_type": "code",
      "source": [
        "\n",
        "# Create empty lists for feature and label data\n",
        "x_train, y_train = [], []\n",
        "\n",
        "\n",
        "# Assuming test_scaled_prices contains multiple features in its columns\n",
        "num_features = train_scaled_prices.shape[1]  # Get the number of columns/features\n",
        "\n",
        "\n",
        "# Create a 60-days window of historical prices (i-60) as our feature data (x_train)\n",
        "# and the following day's price as label data (y_train).\n",
        "for i in range(60, len(train_data)):\n",
        "    x_window = []\n",
        "    for j in range(num_features):  # Assuming there are 2 columns in train_scaled_prices\n",
        "        x_window.append(train_scaled_prices[i - 60:i, j])\n",
        "    x_train.append(x_window)\n",
        "    y_train.append(train_scaled_prices[i, 0])  # Assuming the target column is the first column\n",
        "\n",
        "x_train, y_train = np.array(x_train), np.array(y_train)\n",
        "\n",
        "print(x_train.shape)  # Display the shape of the training data before reshaping\n",
        "# Reshape to (number of samples, sequence length, number of features)\n",
        "\n",
        "x_train = x_train.reshape(x_train.shape[0], x_train.shape[2], x_train.shape[1])  # Reshape to (number of samples, sequence length, number of features)\n",
        "print(x_train.shape)"
      ],
      "metadata": {
        "colab": {
          "base_uri": "https://localhost:8080/"
        },
        "id": "KoUcoALLGzJs",
        "outputId": "bfd87c6e-479a-47bd-ceb3-266856902da8"
      },
      "execution_count": null,
      "outputs": [
        {
          "output_type": "stream",
          "name": "stdout",
          "text": [
            "(1892, 7, 60)\n",
            "(1892, 60, 7)\n"
          ]
        }
      ]
    },
    {
      "cell_type": "code",
      "source": [
        "test_data = prices[train_len-60:, :]\n",
        "#scaler = MinMaxScaler(feature_range=(0, 1))\n",
        "test_scaled_prices = scaler.fit_transform(test_data)\n",
        "len(test_scaled_prices)"
      ],
      "metadata": {
        "id": "dEeAnvQJjNxJ",
        "colab": {
          "base_uri": "https://localhost:8080/"
        },
        "outputId": "890a497f-5fb3-44d9-f0a3-09cf34e24a75"
      },
      "execution_count": null,
      "outputs": [
        {
          "output_type": "execute_result",
          "data": {
            "text/plain": [
              "548"
            ]
          },
          "metadata": {},
          "execution_count": 19
        }
      ]
    },
    {
      "cell_type": "code",
      "execution_count": null,
      "metadata": {
        "id": "EyBOvOuDDtNd",
        "colab": {
          "base_uri": "https://localhost:8080/"
        },
        "outputId": "b997e7b7-4b29-4547-847d-43daa542d5b8"
      },
      "outputs": [
        {
          "output_type": "stream",
          "name": "stdout",
          "text": [
            "1952\n",
            "(7, 488, 60) (488, 7)\n",
            "(488, 60, 7) (488, 7)\n"
          ]
        }
      ],
      "source": [
        "x_test = []\n",
        "y_test = test_scaled_prices[60:, :]  # Assuming the first column is the target column\n",
        "\n",
        "print(train_len)\n",
        "\n",
        "\n",
        "for j in range(num_features):\n",
        "    sequences = []\n",
        "    for i in range(60, len(test_scaled_prices)):\n",
        "        sequences.append(test_scaled_prices[i - 60:i, j])\n",
        "    x_test.append(sequences)\n",
        "\n",
        "x_test = np.array(x_test)\n",
        "print(x_test.shape, y_test.shape)\n",
        "\n",
        "# Reshape x_test for LSTM input shape\n",
        "#x_test = np.transpose(x_test, (1, 0, 2))  # Transpose to (number of samples, number of features, sequence length)\n",
        "x_test = x_test.reshape(x_test.shape[1], x_test.shape[2], x_test.shape[0])  # Reshape to (number of samples, sequence length, number of features)\n",
        "print(x_test.shape,y_test.shape)"
      ]
    },
    {
      "cell_type": "code",
      "execution_count": null,
      "metadata": {
        "id": "vmyjQQl1EhMm",
        "colab": {
          "base_uri": "https://localhost:8080/"
        },
        "outputId": "70309b7f-59d3-4bb1-894a-d7e6f85573cb"
      },
      "outputs": [
        {
          "output_type": "stream",
          "name": "stdout",
          "text": [
            "Model: \"sequential\"\n",
            "_________________________________________________________________\n",
            " Layer (type)                Output Shape              Param #   \n",
            "=================================================================\n",
            " lstm (LSTM)                 (None, 60, 100)           43200     \n",
            "                                                                 \n",
            " lstm_1 (LSTM)               (None, 100)               80400     \n",
            "                                                                 \n",
            " dense (Dense)               (None, 25)                2525      \n",
            "                                                                 \n",
            " dense_1 (Dense)             (None, 1)                 26        \n",
            "                                                                 \n",
            "=================================================================\n",
            "Total params: 126151 (492.78 KB)\n",
            "Trainable params: 126151 (492.78 KB)\n",
            "Non-trainable params: 0 (0.00 Byte)\n",
            "_________________________________________________________________\n"
          ]
        }
      ],
      "source": [
        "#  Define a Sequential model which consists of a linear stack of layers.\n",
        "model = Sequential()\n",
        "\n",
        "# Add a LSTM layer by giving it 100 network units. Set the return_sequence to true so that the output of the layer will be another sequence of the same length\n",
        "model.add(LSTM(100, return_sequences=True, input_shape=(x_train.shape[1], num_features)))\n",
        "\n",
        "# Add another LSTM layer with also 100 network units. But we set the return_sequence to false for this time to only return the last output in the output sequence\n",
        "model.add(LSTM(100, return_sequences=False))\n",
        "\n",
        "# Add a densely connected neural network layer with 25 network units\n",
        "model.add(Dense(25))\n",
        "\n",
        "# Add a densely connected layer that specifies the output of 1 network unit\n",
        "model.add(Dense(1))\n",
        "\n",
        "# Show the summary of our LSTM network architecture\n",
        "model.summary()"
      ]
    },
    {
      "cell_type": "code",
      "execution_count": null,
      "metadata": {
        "id": "KNmkpzVoFz5I",
        "colab": {
          "base_uri": "https://localhost:8080/"
        },
        "outputId": "5808587f-c8b0-40cd-91e5-b822987728e0"
      },
      "outputs": [
        {
          "output_type": "stream",
          "name": "stdout",
          "text": [
            "Epoch 1/3\n",
            "1892/1892 [==============================] - 150s 77ms/step - loss: 0.0022\n",
            "Epoch 2/3\n",
            "1892/1892 [==============================] - 137s 73ms/step - loss: 0.0011\n",
            "Epoch 3/3\n",
            "1892/1892 [==============================] - 140s 74ms/step - loss: 8.6587e-04\n"
          ]
        },
        {
          "output_type": "execute_result",
          "data": {
            "text/plain": [
              "<keras.src.callbacks.History at 0x7840fbf02a70>"
            ]
          },
          "metadata": {},
          "execution_count": 26
        }
      ],
      "source": [
        "model.compile(optimizer='adam', loss='mean_squared_error')\n",
        "model.fit(x_train, y_train, batch_size= 1, epochs=3)"
      ]
    },
    {
      "cell_type": "markdown",
      "metadata": {
        "id": "747Nyr2UHALl"
      },
      "source": [
        "##  Model Evaluation"
      ]
    },
    {
      "cell_type": "markdown",
      "metadata": {
        "id": "YVQwAeKM1a67"
      },
      "source": [
        "Now we need to evaluate our trained LSTM model with the test set. Examine the performance of the model using the root mean square error (RMSE) metric.\n",
        "\n",
        "The steps:\n",
        "1. Apply the model to predict the stock prices based on the test set using the `predict()` method.\n",
        "2. Use the `inverse_transform()` method to denormalize the predicted stock prices.\n",
        "3. Apply the RMSE formula to calculate the degree of discrepancy between the predicted prices and real prices (y_test) and display the result"
      ]
    },
    {
      "cell_type": "code",
      "execution_count": null,
      "metadata": {
        "id": "2E7p_IwVHCYM",
        "colab": {
          "base_uri": "https://localhost:8080/"
        },
        "outputId": "df4e7010-02b1-4731-9f11-430d71e47171"
      },
      "outputs": [
        {
          "output_type": "stream",
          "name": "stdout",
          "text": [
            "16/16 [==============================] - 1s 31ms/step\n",
            "[[0.2456162  0.35149966 0.31514716 ... 0.31819703 0.30844752 0.39061923]\n",
            " [0.32432064 0.30417494 0.50911701 ... 0.13188183 0.20737997 0.38853235]\n",
            " [0.47686604 0.23746751 0.47465901 ... 0.0701593  0.0959276  0.39223191]\n",
            " ...\n",
            " [0.77909958 0.89441901 0.3816224  ... 0.92345858 0.84648499 0.94171215]\n",
            " [0.89559168 0.96973913 0.54716439 ... 0.97329217 0.96500027 0.9730474 ]\n",
            " [0.97094518 1.         0.         ... 0.99026347 0.99843402 1.        ]]\n"
          ]
        },
        {
          "output_type": "execute_result",
          "data": {
            "text/plain": [
              "488"
            ]
          },
          "metadata": {},
          "execution_count": 27
        }
      ],
      "source": [
        "# Apply the model to predict the stock prices based on the test set\n",
        "predictions = model.predict(x_test)\n",
        "\n",
        "y_test_final =test_scaled_prices[-predictions.shape[0]:,1:]\n",
        "#open_values = test_scaled_prices[-predictions.shape[0]:, 1:].reshape(-1, 1)\n",
        "predictions = np.hstack((predictions, y_test_final))\n",
        "print(predictions)\n",
        "# Use the inverse_transform method to denormalize the predicted stock prices\n",
        "predictions = scaler.inverse_transform(predictions)\n",
        "# Apply the RMSE formula to evaluate the correctness of the predictions\n",
        "rmse = np.sqrt(np.mean(predictions[:,0] - y_test[:,0])**2)\n",
        "rmse\n",
        "\n",
        "len(predictions)"
      ]
    },
    {
      "cell_type": "markdown",
      "metadata": {
        "id": "tQCIgLQIIgjo"
      },
      "source": [
        "## Visualizing the Predicted Prices"
      ]
    },
    {
      "cell_type": "code",
      "execution_count": null,
      "metadata": {
        "id": "nP4ev5_nIjHf",
        "colab": {
          "base_uri": "https://localhost:8080/",
          "height": 625
        },
        "outputId": "b967fa55-b0ca-4216-bb10-10345cf40d59"
      },
      "outputs": [
        {
          "output_type": "display_data",
          "data": {
            "text/plain": [
              "<Figure size 1600x800 with 1 Axes>"
            ],
            "image/png": "[encoded data removed]"
          },
          "metadata": {}
        }
      ],
      "source": [
        "# Filter the Adj Close prices into a\n",
        "data = df.filter(['Adj Close'])\n",
        "train = data[:train_len].copy()\n",
        "#print(data[train_len:])\n",
        "#validation = data[train_len:].copy()\n",
        "validation = data[-predictions.shape[0]:].copy()\n",
        "\n",
        "#print(predictions[:,0])\n",
        "validation['Predictions'] = predictions[:,0]\n",
        "plt.figure(figsize=(16, 8))\n",
        "plt.title('Model Predictions vs Real Prices')\n",
        "plt.xlabel('Date')\n",
        "plt.ylabel('Close Price')\n",
        "plt.plot(train)\n",
        "plt.plot(validation[['Adj Close', 'Predictions']])\n",
        "plt.legend(['Train', 'Val', 'Predictions'], loc='lower right')\n",
        "plt.show()"
      ]
    },
    {
      "cell_type": "code",
      "source": [
        "#The model needs much more work before it can be used for predicting."
      ],
      "metadata": {
        "id": "7jze7T282X6g"
      },
      "execution_count": null,
      "outputs": []
    }
  ],
  "metadata": {
    "colab": {
      "provenance": [],
      "include_colab_link": true
    },
    "hide_input": false,
    "kernelspec": {
      "display_name": "Python 3 (ipykernel)",
      "language": "python",
      "name": "python3"
    },
    "language_info": {
      "codemirror_mode": {
        "name": "ipython",
        "version": 3
      },
      "file_extension": ".py",
      "mimetype": "text/x-python",
      "name": "python",
      "nbconvert_exporter": "python",
      "pygments_lexer": "ipython3",
      "version": "3.11.4"
    }
  },
  "nbformat": 4,
  "nbformat_minor": 0
}